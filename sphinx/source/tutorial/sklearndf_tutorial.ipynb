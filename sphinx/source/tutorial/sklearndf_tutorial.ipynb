{
 "cells": [
  {
   "cell_type": "code",
   "execution_count": 4,
   "metadata": {
    "delete_for_interactive": true,
    "nbsphinx": "hidden"
   },
   "outputs": [
    {
     "name": "stdout",
     "output_type": "stream",
     "text": [
      "working dir is 'C:\\Projects\\facet\\sklearndf'\n",
      "added `C:\\Projects\\facet\\pytools\\src` to python paths\n",
      "added `C:\\Projects\\facet\\sklearndf\\src` to python paths\n"
     ]
    }
   ],
   "source": [
    "# this cell's metadata contains\n",
    "# \"nbsphinx\": \"hidden\" so it is hidden by nbsphinx\n",
    "\n",
    "def _ignore_warnings():\n",
    "    # ignore irrelevant warnings that would affect the output of this tutorial notebook\n",
    "    \n",
    "    # ignore a useless LGBM warning\n",
    "    import warnings\n",
    "    warnings.filterwarnings(\"ignore\", category=UserWarning, message=r\".*Xcode_8\\.3\\.3\")\n",
    "\n",
    "_ignore_warnings()\n",
    "\n",
    "del _ignore_warnings"
   ]
  },
  {
   "cell_type": "markdown",
   "metadata": {
    "ExecuteTime": {
     "end_time": "2019-07-26T08:31:08.171058Z",
     "start_time": "2019-07-26T08:31:08.167059Z"
    }
   },
   "source": [
    "# Scikit-learn and data frames\n"
   ]
  },
  {
   "cell_type": "markdown",
   "metadata": {
    "raw_mimetype": "text/restructuredtext"
   },
   "source": [
    "The `sklearndf` package enhances scikit-learn for advanced support of data frames.\n",
    "\n",
    "It addresses a common issue with scikit-learn: the outputs of transformers are numpy arrays, even when the input is a data frame. However, to inspect a model it is essential to keep track of the feature names.\n",
    "\n",
    "`sklearndf` enhances scikit-learn's estimators to:\n",
    "\n",
    "- return data frames as results of transformations, preserving feature names as the column index\n",
    "- add additional estimator properties to enable tracing a feature name back to its original input feature; this is especially useful for transformers that create new features (e.g., one-hot encode), and for pipelines that include such transformers \n",
    "\n",
    "Using `sklearndf` is very simple: Append `DF` at the end of scikit-learn class names and you will get enhanced data frame support."
   ]
  },
  {
   "cell_type": "code",
   "execution_count": 2,
   "metadata": {
    "ExecuteTime": {
     "end_time": "2019-07-30T18:53:38.950751Z",
     "start_time": "2019-07-30T18:53:36.816398Z"
    },
    "pycharm": {
     "is_executing": false
    }
   },
   "outputs": [
    {
     "name": "stderr",
     "output_type": "stream",
     "text": [
      "C:\\Anaconda3\\envs\\facet-develop\\lib\\site-packages\\sklearn\\utils\\deprecation.py:143: FutureWarning: The sklearn.linear_model.stochastic_gradient module is  deprecated in version 0.22 and will be removed in version 0.24. The corresponding classes / functions should instead be imported from sklearn.linear_model. Anything that cannot be imported from sklearn.linear_model is now part of the private API.\n",
      "  warnings.warn(message, FutureWarning)\n"
     ]
    }
   ],
   "source": [
    "import pandas as pd\n",
    "\n",
    "from sklearn.compose import ColumnTransformer\n",
    "from sklearn.datasets import fetch_openml\n",
    "from sklearn.impute import SimpleImputer\n",
    "from sklearn.model_selection import train_test_split\n",
    "from sklearn.pipeline import Pipeline\n",
    "from sklearn.preprocessing import OneHotEncoder\n",
    "\n",
    "from sklearndf.classification import RandomForestClassifierDF\n",
    "from sklearndf.pipeline import PipelineDF, RegressorPipelineDF\n",
    "from sklearndf.regression import RandomForestRegressorDF\n",
    "from sklearndf.regression.extra import LGBMRegressorDF\n",
    "from sklearndf.transformation import ColumnTransformerDF, OneHotEncoderDF, SimpleImputerDF\n",
    "from sklearndf.transformation.extra import BorutaDF"
   ]
  },
  {
   "cell_type": "markdown",
   "metadata": {},
   "source": [
    "We load our data:"
   ]
  },
  {
   "cell_type": "code",
   "execution_count": 5,
   "metadata": {
    "ExecuteTime": {
     "end_time": "2019-07-30T18:53:38.991698Z",
     "start_time": "2019-07-30T18:53:38.953342Z"
    },
    "pycharm": {
     "is_executing": false
    }
   },
   "outputs": [],
   "source": [
    "housing_features_df, housing_target_sr = fetch_openml(data_id=42165, return_X_y=True, as_frame=True)\n",
    "housing_features_df = housing_features_df.drop([\"Id\", \"YrSold\", \"MoSold\", \"MSSubClass\", \"MiscVal\"], axis=1)"
   ]
  },
  {
   "cell_type": "markdown",
   "metadata": {},
   "source": [
    "The data set includes categorical features, e.g., garage types:"
   ]
  },
  {
   "cell_type": "code",
   "execution_count": 6,
   "metadata": {
    "ExecuteTime": {
     "end_time": "2019-07-30T18:53:39.002353Z",
     "start_time": "2019-07-30T18:53:38.993328Z"
    },
    "pycharm": {
     "is_executing": false
    }
   },
   "outputs": [
    {
     "data": {
      "text/plain": [
       "array(['Attchd', 'Detchd', 'BuiltIn', 'CarPort', None, 'Basment',\n",
       "       '2Types'], dtype=object)"
      ]
     },
     "execution_count": 6,
     "metadata": {},
     "output_type": "execute_result"
    }
   ],
   "source": [
    "housing_features_df[\"GarageType\"].unique()"
   ]
  },
  {
   "cell_type": "markdown",
   "metadata": {
    "ExecuteTime": {
     "end_time": "2019-07-26T13:42:19.065036Z",
     "start_time": "2019-07-26T13:42:19.058033Z"
    }
   },
   "source": [
    "Let us build a preprocessing pipeline which:\n",
    "\n",
    "- for categorical variables fills missing values with the string 'nan' and then one-hot encodes\n",
    "- for numerical values fills missing values using median values"
   ]
  },
  {
   "cell_type": "code",
   "execution_count": 7,
   "metadata": {
    "ExecuteTime": {
     "end_time": "2019-07-30T18:53:39.044336Z",
     "start_time": "2019-07-30T18:53:39.019314Z"
    },
    "pycharm": {
     "is_executing": false
    }
   },
   "outputs": [
    {
     "data": {
      "text/plain": [
       "(Index(['MSZoning', 'Street', 'Alley', 'LotShape', 'LandContour', 'Utilities',\n",
       "        'LotConfig', 'LandSlope', 'Neighborhood', 'Condition1', 'Condition2',\n",
       "        'BldgType', 'HouseStyle', 'RoofStyle', 'RoofMatl', 'Exterior1st',\n",
       "        'Exterior2nd', 'MasVnrType', 'ExterQual', 'ExterCond', 'Foundation',\n",
       "        'BsmtQual', 'BsmtCond', 'BsmtExposure', 'BsmtFinType1', 'BsmtFinType2',\n",
       "        'Heating', 'HeatingQC', 'CentralAir', 'Electrical', 'KitchenQual',\n",
       "        'Functional', 'FireplaceQu', 'GarageType', 'GarageFinish', 'GarageQual',\n",
       "        'GarageCond', 'PavedDrive', 'PoolQC', 'Fence', 'MiscFeature',\n",
       "        'SaleType', 'SaleCondition'],\n",
       "       dtype='object'),\n",
       " Index(['LotFrontage', 'LotArea', 'OverallQual', 'OverallCond', 'YearBuilt',\n",
       "        'YearRemodAdd', 'MasVnrArea', 'BsmtFinSF1', 'BsmtFinSF2', 'BsmtUnfSF',\n",
       "        'TotalBsmtSF', '1stFlrSF', '2ndFlrSF', 'LowQualFinSF', 'GrLivArea',\n",
       "        'BsmtFullBath', 'BsmtHalfBath', 'FullBath', 'HalfBath', 'BedroomAbvGr',\n",
       "        'KitchenAbvGr', 'TotRmsAbvGrd', 'Fireplaces', 'GarageYrBlt',\n",
       "        'GarageCars', 'GarageArea', 'WoodDeckSF', 'OpenPorchSF',\n",
       "        'EnclosedPorch', '3SsnPorch', 'ScreenPorch', 'PoolArea'],\n",
       "       dtype='object'))"
      ]
     },
     "execution_count": 7,
     "metadata": {},
     "output_type": "execute_result"
    }
   ],
   "source": [
    "categorical_features = housing_features_df.select_dtypes(object).columns\n",
    "numerical_features = housing_features_df.select_dtypes(pd.np.number).columns\n",
    "\n",
    "categorical_features, numerical_features"
   ]
  },
  {
   "cell_type": "markdown",
   "metadata": {},
   "source": [
    "# Contrasting a scikit-learn and sklearndf pipeline"
   ]
  },
  {
   "cell_type": "markdown",
   "metadata": {},
   "source": [
    "## A scikit-learn pipeline"
   ]
  },
  {
   "cell_type": "markdown",
   "metadata": {},
   "source": [
    "We first build the preprocessing pipeline with native scikit-learn transformers.\n",
    "This is achievable with a few lines of code; however does not allow us to keep track of feature names. "
   ]
  },
  {
   "cell_type": "code",
   "execution_count": 8,
   "metadata": {
    "ExecuteTime": {
     "end_time": "2019-07-30T18:53:39.055313Z",
     "start_time": "2019-07-30T18:53:39.047314Z"
    },
    "pycharm": {
     "is_executing": false
    }
   },
   "outputs": [],
   "source": [
    "preprocessing_numeric = SimpleImputer(strategy=\"median\", add_indicator=True)\n",
    "\n",
    "preprocessing_categorical = Pipeline(\n",
    "    steps=[\n",
    "        ('imputer', SimpleImputer(missing_values=None, strategy='constant', fill_value='<unknown>')),\n",
    "        ('one-hot', OneHotEncoder(sparse=False))\n",
    "    ]\n",
    ")\n",
    "\n",
    "preprocessing = ColumnTransformer(\n",
    "    transformers=[\n",
    "        ('numeric', preprocessing_numeric, numerical_features),\n",
    "        ('categorical', preprocessing_categorical, categorical_features),\n",
    "    ]\n",
    ")"
   ]
  },
  {
   "cell_type": "code",
   "execution_count": 9,
   "metadata": {
    "ExecuteTime": {
     "end_time": "2019-07-30T18:53:39.134309Z",
     "start_time": "2019-07-30T18:53:39.082355Z"
    },
    "pycharm": {
     "is_executing": false
    }
   },
   "outputs": [
    {
     "data": {
      "text/plain": [
       "array([[6.500e+01, 8.450e+03, 7.000e+00, ..., 0.000e+00, 1.000e+00,\n",
       "        0.000e+00],\n",
       "       [8.000e+01, 9.600e+03, 6.000e+00, ..., 0.000e+00, 1.000e+00,\n",
       "        0.000e+00],\n",
       "       [6.800e+01, 1.125e+04, 7.000e+00, ..., 0.000e+00, 1.000e+00,\n",
       "        0.000e+00],\n",
       "       ...,\n",
       "       [6.600e+01, 9.042e+03, 7.000e+00, ..., 0.000e+00, 1.000e+00,\n",
       "        0.000e+00],\n",
       "       [6.800e+01, 9.717e+03, 5.000e+00, ..., 0.000e+00, 1.000e+00,\n",
       "        0.000e+00],\n",
       "       [7.500e+01, 9.937e+03, 5.000e+00, ..., 0.000e+00, 1.000e+00,\n",
       "        0.000e+00]])"
      ]
     },
     "execution_count": 9,
     "metadata": {},
     "output_type": "execute_result"
    }
   ],
   "source": [
    "preprocessing.fit_transform(X=housing_features_df, y=housing_target_sr)"
   ]
  },
  {
   "cell_type": "markdown",
   "metadata": {
    "raw_mimetype": "text/restructuredtext"
   },
   "source": [
    "The strength of `sklearndf` is to maintain the scikit-learn conventions and expressivity, and to also preserve dataframes, hence keeping track of the feature names."
   ]
  },
  {
   "cell_type": "markdown",
   "metadata": {},
   "source": [
    "## An sklearndf pipeline"
   ]
  },
  {
   "cell_type": "markdown",
   "metadata": {
    "raw_mimetype": "text/restructuredtext"
   },
   "source": [
    "The convention in `sklearndf` is to append `DF` at the end of each corresponding scikit-learn class. \n",
    "For instance, to reproduce the above example, we write:"
   ]
  },
  {
   "cell_type": "code",
   "execution_count": 10,
   "metadata": {
    "ExecuteTime": {
     "end_time": "2019-07-30T18:53:39.153308Z",
     "start_time": "2019-07-30T18:53:39.145308Z"
    },
    "pycharm": {
     "is_executing": false
    }
   },
   "outputs": [],
   "source": [
    "preprocessing_numeric_df = SimpleImputerDF(strategy=\"median\", add_indicator=True)\n",
    "\n",
    "preprocessing_categorical_df = PipelineDF(\n",
    "    steps=[\n",
    "        ('imputer', SimpleImputerDF(missing_values=None, strategy='constant', fill_value='<unknown>')),\n",
    "        ('one-hot', OneHotEncoderDF(sparse=False, handle_unknown=\"ignore\"))\n",
    "    ]\n",
    ")\n",
    "\n",
    "preprocessing_df = ColumnTransformerDF(\n",
    "    transformers=[\n",
    "        ('categorical', preprocessing_categorical_df, categorical_features),\n",
    "        ('numeric', preprocessing_numeric_df, numerical_features),\n",
    "    ]\n",
    ")"
   ]
  },
  {
   "cell_type": "code",
   "execution_count": 11,
   "metadata": {
    "ExecuteTime": {
     "end_time": "2019-07-30T18:53:39.249358Z",
     "start_time": "2019-07-30T18:53:39.180306Z"
    },
    "pycharm": {
     "is_executing": false
    }
   },
   "outputs": [
    {
     "data": {
      "text/html": [
       "<div>\n",
       "<style scoped>\n",
       "    .dataframe tbody tr th:only-of-type {\n",
       "        vertical-align: middle;\n",
       "    }\n",
       "\n",
       "    .dataframe tbody tr th {\n",
       "        vertical-align: top;\n",
       "    }\n",
       "\n",
       "    .dataframe thead th {\n",
       "        text-align: right;\n",
       "    }\n",
       "</style>\n",
       "<table border=\"1\" class=\"dataframe\">\n",
       "  <thead>\n",
       "    <tr style=\"text-align: right;\">\n",
       "      <th>feature_out</th>\n",
       "      <th>MSZoning_C (all)</th>\n",
       "      <th>MSZoning_FV</th>\n",
       "      <th>MSZoning_RH</th>\n",
       "      <th>MSZoning_RL</th>\n",
       "      <th>MSZoning_RM</th>\n",
       "      <th>Street_Grvl</th>\n",
       "      <th>Street_Pave</th>\n",
       "      <th>Alley_&lt;unknown&gt;</th>\n",
       "      <th>Alley_Grvl</th>\n",
       "      <th>Alley_Pave</th>\n",
       "      <th>...</th>\n",
       "      <th>GarageArea</th>\n",
       "      <th>WoodDeckSF</th>\n",
       "      <th>OpenPorchSF</th>\n",
       "      <th>EnclosedPorch</th>\n",
       "      <th>3SsnPorch</th>\n",
       "      <th>ScreenPorch</th>\n",
       "      <th>PoolArea</th>\n",
       "      <th>LotFrontage__missing</th>\n",
       "      <th>MasVnrArea__missing</th>\n",
       "      <th>GarageYrBlt__missing</th>\n",
       "    </tr>\n",
       "  </thead>\n",
       "  <tbody>\n",
       "    <tr>\n",
       "      <th>0</th>\n",
       "      <td>0.0</td>\n",
       "      <td>0.0</td>\n",
       "      <td>0.0</td>\n",
       "      <td>1.0</td>\n",
       "      <td>0.0</td>\n",
       "      <td>0.0</td>\n",
       "      <td>1.0</td>\n",
       "      <td>1.0</td>\n",
       "      <td>0.0</td>\n",
       "      <td>0.0</td>\n",
       "      <td>...</td>\n",
       "      <td>548.0</td>\n",
       "      <td>0.0</td>\n",
       "      <td>61.0</td>\n",
       "      <td>0.0</td>\n",
       "      <td>0.0</td>\n",
       "      <td>0.0</td>\n",
       "      <td>0.0</td>\n",
       "      <td>0.0</td>\n",
       "      <td>0.0</td>\n",
       "      <td>0.0</td>\n",
       "    </tr>\n",
       "    <tr>\n",
       "      <th>1</th>\n",
       "      <td>0.0</td>\n",
       "      <td>0.0</td>\n",
       "      <td>0.0</td>\n",
       "      <td>1.0</td>\n",
       "      <td>0.0</td>\n",
       "      <td>0.0</td>\n",
       "      <td>1.0</td>\n",
       "      <td>1.0</td>\n",
       "      <td>0.0</td>\n",
       "      <td>0.0</td>\n",
       "      <td>...</td>\n",
       "      <td>460.0</td>\n",
       "      <td>298.0</td>\n",
       "      <td>0.0</td>\n",
       "      <td>0.0</td>\n",
       "      <td>0.0</td>\n",
       "      <td>0.0</td>\n",
       "      <td>0.0</td>\n",
       "      <td>0.0</td>\n",
       "      <td>0.0</td>\n",
       "      <td>0.0</td>\n",
       "    </tr>\n",
       "    <tr>\n",
       "      <th>2</th>\n",
       "      <td>0.0</td>\n",
       "      <td>0.0</td>\n",
       "      <td>0.0</td>\n",
       "      <td>1.0</td>\n",
       "      <td>0.0</td>\n",
       "      <td>0.0</td>\n",
       "      <td>1.0</td>\n",
       "      <td>1.0</td>\n",
       "      <td>0.0</td>\n",
       "      <td>0.0</td>\n",
       "      <td>...</td>\n",
       "      <td>608.0</td>\n",
       "      <td>0.0</td>\n",
       "      <td>42.0</td>\n",
       "      <td>0.0</td>\n",
       "      <td>0.0</td>\n",
       "      <td>0.0</td>\n",
       "      <td>0.0</td>\n",
       "      <td>0.0</td>\n",
       "      <td>0.0</td>\n",
       "      <td>0.0</td>\n",
       "    </tr>\n",
       "    <tr>\n",
       "      <th>3</th>\n",
       "      <td>0.0</td>\n",
       "      <td>0.0</td>\n",
       "      <td>0.0</td>\n",
       "      <td>1.0</td>\n",
       "      <td>0.0</td>\n",
       "      <td>0.0</td>\n",
       "      <td>1.0</td>\n",
       "      <td>1.0</td>\n",
       "      <td>0.0</td>\n",
       "      <td>0.0</td>\n",
       "      <td>...</td>\n",
       "      <td>642.0</td>\n",
       "      <td>0.0</td>\n",
       "      <td>35.0</td>\n",
       "      <td>272.0</td>\n",
       "      <td>0.0</td>\n",
       "      <td>0.0</td>\n",
       "      <td>0.0</td>\n",
       "      <td>0.0</td>\n",
       "      <td>0.0</td>\n",
       "      <td>0.0</td>\n",
       "    </tr>\n",
       "    <tr>\n",
       "      <th>4</th>\n",
       "      <td>0.0</td>\n",
       "      <td>0.0</td>\n",
       "      <td>0.0</td>\n",
       "      <td>1.0</td>\n",
       "      <td>0.0</td>\n",
       "      <td>0.0</td>\n",
       "      <td>1.0</td>\n",
       "      <td>1.0</td>\n",
       "      <td>0.0</td>\n",
       "      <td>0.0</td>\n",
       "      <td>...</td>\n",
       "      <td>836.0</td>\n",
       "      <td>192.0</td>\n",
       "      <td>84.0</td>\n",
       "      <td>0.0</td>\n",
       "      <td>0.0</td>\n",
       "      <td>0.0</td>\n",
       "      <td>0.0</td>\n",
       "      <td>0.0</td>\n",
       "      <td>0.0</td>\n",
       "      <td>0.0</td>\n",
       "    </tr>\n",
       "  </tbody>\n",
       "</table>\n",
       "<p>5 rows × 303 columns</p>\n",
       "</div>"
      ],
      "text/plain": [
       "feature_out  MSZoning_C (all)  MSZoning_FV  MSZoning_RH  MSZoning_RL  \\\n",
       "0                         0.0          0.0          0.0          1.0   \n",
       "1                         0.0          0.0          0.0          1.0   \n",
       "2                         0.0          0.0          0.0          1.0   \n",
       "3                         0.0          0.0          0.0          1.0   \n",
       "4                         0.0          0.0          0.0          1.0   \n",
       "\n",
       "feature_out  MSZoning_RM  Street_Grvl  Street_Pave  Alley_<unknown>  \\\n",
       "0                    0.0          0.0          1.0              1.0   \n",
       "1                    0.0          0.0          1.0              1.0   \n",
       "2                    0.0          0.0          1.0              1.0   \n",
       "3                    0.0          0.0          1.0              1.0   \n",
       "4                    0.0          0.0          1.0              1.0   \n",
       "\n",
       "feature_out  Alley_Grvl  Alley_Pave  ...  GarageArea  WoodDeckSF  OpenPorchSF  \\\n",
       "0                   0.0         0.0  ...       548.0         0.0         61.0   \n",
       "1                   0.0         0.0  ...       460.0       298.0          0.0   \n",
       "2                   0.0         0.0  ...       608.0         0.0         42.0   \n",
       "3                   0.0         0.0  ...       642.0         0.0         35.0   \n",
       "4                   0.0         0.0  ...       836.0       192.0         84.0   \n",
       "\n",
       "feature_out  EnclosedPorch  3SsnPorch  ScreenPorch  PoolArea  \\\n",
       "0                      0.0        0.0          0.0       0.0   \n",
       "1                      0.0        0.0          0.0       0.0   \n",
       "2                      0.0        0.0          0.0       0.0   \n",
       "3                    272.0        0.0          0.0       0.0   \n",
       "4                      0.0        0.0          0.0       0.0   \n",
       "\n",
       "feature_out  LotFrontage__missing  MasVnrArea__missing  GarageYrBlt__missing  \n",
       "0                             0.0                  0.0                   0.0  \n",
       "1                             0.0                  0.0                   0.0  \n",
       "2                             0.0                  0.0                   0.0  \n",
       "3                             0.0                  0.0                   0.0  \n",
       "4                             0.0                  0.0                   0.0  \n",
       "\n",
       "[5 rows x 303 columns]"
      ]
     },
     "execution_count": 11,
     "metadata": {},
     "output_type": "execute_result"
    }
   ],
   "source": [
    "transformed_df = preprocessing_df.fit_transform(X=housing_features_df, y=housing_target_sr)\n",
    "transformed_df.head()"
   ]
  },
  {
   "cell_type": "markdown",
   "metadata": {
    "raw_mimetype": "text/restructuredtext"
   },
   "source": [
    "The `sklearndf.transformation.ColumnTransformerDF.feature_names_original_` attribute returns a series mapping the output columns (the series' index) to the input columns (the series' values):"
   ]
  },
  {
   "cell_type": "code",
   "execution_count": 12,
   "metadata": {
    "ExecuteTime": {
     "end_time": "2019-07-30T18:54:35.436833Z",
     "start_time": "2019-07-30T18:54:35.431830Z"
    },
    "pycharm": {
     "is_executing": false
    }
   },
   "outputs": [
    {
     "data": {
      "text/html": [
       "<div>\n",
       "<style scoped>\n",
       "    .dataframe tbody tr th:only-of-type {\n",
       "        vertical-align: middle;\n",
       "    }\n",
       "\n",
       "    .dataframe tbody tr th {\n",
       "        vertical-align: top;\n",
       "    }\n",
       "\n",
       "    .dataframe thead th {\n",
       "        text-align: right;\n",
       "    }\n",
       "</style>\n",
       "<table border=\"1\" class=\"dataframe\">\n",
       "  <thead>\n",
       "    <tr style=\"text-align: right;\">\n",
       "      <th></th>\n",
       "      <th>feature_in</th>\n",
       "    </tr>\n",
       "    <tr>\n",
       "      <th>feature_out</th>\n",
       "      <th></th>\n",
       "    </tr>\n",
       "  </thead>\n",
       "  <tbody>\n",
       "    <tr>\n",
       "      <th>MSZoning_C (all)</th>\n",
       "      <td>MSZoning</td>\n",
       "    </tr>\n",
       "    <tr>\n",
       "      <th>MSZoning_FV</th>\n",
       "      <td>MSZoning</td>\n",
       "    </tr>\n",
       "    <tr>\n",
       "      <th>MSZoning_RH</th>\n",
       "      <td>MSZoning</td>\n",
       "    </tr>\n",
       "    <tr>\n",
       "      <th>MSZoning_RL</th>\n",
       "      <td>MSZoning</td>\n",
       "    </tr>\n",
       "    <tr>\n",
       "      <th>MSZoning_RM</th>\n",
       "      <td>MSZoning</td>\n",
       "    </tr>\n",
       "    <tr>\n",
       "      <th>Street_Grvl</th>\n",
       "      <td>Street</td>\n",
       "    </tr>\n",
       "    <tr>\n",
       "      <th>Street_Pave</th>\n",
       "      <td>Street</td>\n",
       "    </tr>\n",
       "    <tr>\n",
       "      <th>Alley_&lt;unknown&gt;</th>\n",
       "      <td>Alley</td>\n",
       "    </tr>\n",
       "    <tr>\n",
       "      <th>Alley_Grvl</th>\n",
       "      <td>Alley</td>\n",
       "    </tr>\n",
       "    <tr>\n",
       "      <th>Alley_Pave</th>\n",
       "      <td>Alley</td>\n",
       "    </tr>\n",
       "  </tbody>\n",
       "</table>\n",
       "</div>"
      ],
      "text/plain": [
       "                 feature_in\n",
       "feature_out                \n",
       "MSZoning_C (all)   MSZoning\n",
       "MSZoning_FV        MSZoning\n",
       "MSZoning_RH        MSZoning\n",
       "MSZoning_RL        MSZoning\n",
       "MSZoning_RM        MSZoning\n",
       "Street_Grvl          Street\n",
       "Street_Pave          Street\n",
       "Alley_<unknown>       Alley\n",
       "Alley_Grvl            Alley\n",
       "Alley_Pave            Alley"
      ]
     },
     "execution_count": 12,
     "metadata": {},
     "output_type": "execute_result"
    }
   ],
   "source": [
    "preprocessing_df.feature_names_original_.to_frame().head(10)"
   ]
  },
  {
   "cell_type": "markdown",
   "metadata": {},
   "source": [
    "You can therefore easily select all output features generated from a given input feature:"
   ]
  },
  {
   "cell_type": "code",
   "execution_count": 13,
   "metadata": {
    "ExecuteTime": {
     "end_time": "2019-07-30T18:54:47.270660Z",
     "start_time": "2019-07-30T18:54:47.254638Z"
    },
    "pycharm": {
     "is_executing": false
    }
   },
   "outputs": [
    {
     "data": {
      "text/html": [
       "<div>\n",
       "<style scoped>\n",
       "    .dataframe tbody tr th:only-of-type {\n",
       "        vertical-align: middle;\n",
       "    }\n",
       "\n",
       "    .dataframe tbody tr th {\n",
       "        vertical-align: top;\n",
       "    }\n",
       "\n",
       "    .dataframe thead th {\n",
       "        text-align: right;\n",
       "    }\n",
       "</style>\n",
       "<table border=\"1\" class=\"dataframe\">\n",
       "  <thead>\n",
       "    <tr style=\"text-align: right;\">\n",
       "      <th>feature_out</th>\n",
       "      <th>GarageType_2Types</th>\n",
       "      <th>GarageType_&lt;unknown&gt;</th>\n",
       "      <th>GarageType_Attchd</th>\n",
       "      <th>GarageType_Basment</th>\n",
       "      <th>GarageType_BuiltIn</th>\n",
       "      <th>GarageType_CarPort</th>\n",
       "      <th>GarageType_Detchd</th>\n",
       "    </tr>\n",
       "  </thead>\n",
       "  <tbody>\n",
       "    <tr>\n",
       "      <th>0</th>\n",
       "      <td>0.0</td>\n",
       "      <td>0.0</td>\n",
       "      <td>1.0</td>\n",
       "      <td>0.0</td>\n",
       "      <td>0.0</td>\n",
       "      <td>0.0</td>\n",
       "      <td>0.0</td>\n",
       "    </tr>\n",
       "    <tr>\n",
       "      <th>1</th>\n",
       "      <td>0.0</td>\n",
       "      <td>0.0</td>\n",
       "      <td>1.0</td>\n",
       "      <td>0.0</td>\n",
       "      <td>0.0</td>\n",
       "      <td>0.0</td>\n",
       "      <td>0.0</td>\n",
       "    </tr>\n",
       "    <tr>\n",
       "      <th>2</th>\n",
       "      <td>0.0</td>\n",
       "      <td>0.0</td>\n",
       "      <td>1.0</td>\n",
       "      <td>0.0</td>\n",
       "      <td>0.0</td>\n",
       "      <td>0.0</td>\n",
       "      <td>0.0</td>\n",
       "    </tr>\n",
       "    <tr>\n",
       "      <th>3</th>\n",
       "      <td>0.0</td>\n",
       "      <td>0.0</td>\n",
       "      <td>0.0</td>\n",
       "      <td>0.0</td>\n",
       "      <td>0.0</td>\n",
       "      <td>0.0</td>\n",
       "      <td>1.0</td>\n",
       "    </tr>\n",
       "    <tr>\n",
       "      <th>4</th>\n",
       "      <td>0.0</td>\n",
       "      <td>0.0</td>\n",
       "      <td>1.0</td>\n",
       "      <td>0.0</td>\n",
       "      <td>0.0</td>\n",
       "      <td>0.0</td>\n",
       "      <td>0.0</td>\n",
       "    </tr>\n",
       "  </tbody>\n",
       "</table>\n",
       "</div>"
      ],
      "text/plain": [
       "feature_out  GarageType_2Types  GarageType_<unknown>  GarageType_Attchd  \\\n",
       "0                          0.0                   0.0                1.0   \n",
       "1                          0.0                   0.0                1.0   \n",
       "2                          0.0                   0.0                1.0   \n",
       "3                          0.0                   0.0                0.0   \n",
       "4                          0.0                   0.0                1.0   \n",
       "\n",
       "feature_out  GarageType_Basment  GarageType_BuiltIn  GarageType_CarPort  \\\n",
       "0                           0.0                 0.0                 0.0   \n",
       "1                           0.0                 0.0                 0.0   \n",
       "2                           0.0                 0.0                 0.0   \n",
       "3                           0.0                 0.0                 0.0   \n",
       "4                           0.0                 0.0                 0.0   \n",
       "\n",
       "feature_out  GarageType_Detchd  \n",
       "0                          0.0  \n",
       "1                          0.0  \n",
       "2                          0.0  \n",
       "3                          1.0  \n",
       "4                          0.0  "
      ]
     },
     "execution_count": 13,
     "metadata": {},
     "output_type": "execute_result"
    }
   ],
   "source": [
    "garage_type_derivatives = preprocessing_df.feature_names_original_ == \"GarageType\"\n",
    "\n",
    "transformed_df.loc[:, garage_type_derivatives].head()"
   ]
  },
  {
   "cell_type": "markdown",
   "metadata": {},
   "source": [
    "# Supervised learners"
   ]
  },
  {
   "cell_type": "markdown",
   "metadata": {
    "ExecuteTime": {
     "end_time": "2019-07-26T08:36:43.003042Z",
     "start_time": "2019-07-26T08:36:42.733047Z"
    }
   },
   "source": [
    "## Regressors"
   ]
  },
  {
   "cell_type": "markdown",
   "metadata": {},
   "source": [
    "As for transformers, scikit-learn regressors and classifiers have a `sklearndf` sibling obtained by appending `DF` to the class name, and the API remains the same. The result of any predict and decision function will be returned as a pandas series (single output) or data frame (class probabilities or multi-output).\n",
    "\n",
    "For a random forest regressor we get:"
   ]
  },
  {
   "cell_type": "code",
   "execution_count": 14,
   "metadata": {
    "ExecuteTime": {
     "end_time": "2019-07-30T18:54:49.180964Z",
     "start_time": "2019-07-30T18:54:48.757981Z"
    },
    "pycharm": {
     "is_executing": false
    }
   },
   "outputs": [
    {
     "data": {
      "text/plain": [
       "0.8638857401761125"
      ]
     },
     "execution_count": 14,
     "metadata": {},
     "output_type": "execute_result"
    }
   ],
   "source": [
    "# a simplified features vector (we will use a pipeline for more sophisticated pre-processing further down)\n",
    "numerical_features_df = housing_features_df.loc[:, numerical_features].fillna(0)\n",
    "\n",
    "df_numerical_train, df_numerical_test, y_train, y_test = train_test_split(\n",
    "    numerical_features_df,\n",
    "    housing_target_sr,\n",
    "    random_state=42\n",
    ")\n",
    "\n",
    "random_forest_regressor_df = RandomForestRegressorDF(\n",
    "    n_estimators=100,\n",
    "    max_depth=5,\n",
    "    random_state=42,\n",
    "    n_jobs=-3\n",
    ")\n",
    "\n",
    "random_forest_regressor_df.fit(X=df_numerical_train, y=y_train)\n",
    "random_forest_regressor_df.score(X=df_numerical_test, y=y_test)"
   ]
  },
  {
   "cell_type": "code",
   "execution_count": 15,
   "metadata": {},
   "outputs": [
    {
     "data": {
      "text/html": [
       "<div>\n",
       "<style scoped>\n",
       "    .dataframe tbody tr th:only-of-type {\n",
       "        vertical-align: middle;\n",
       "    }\n",
       "\n",
       "    .dataframe tbody tr th {\n",
       "        vertical-align: top;\n",
       "    }\n",
       "\n",
       "    .dataframe thead th {\n",
       "        text-align: right;\n",
       "    }\n",
       "</style>\n",
       "<table border=\"1\" class=\"dataframe\">\n",
       "  <thead>\n",
       "    <tr style=\"text-align: right;\">\n",
       "      <th></th>\n",
       "      <th>prediction</th>\n",
       "    </tr>\n",
       "  </thead>\n",
       "  <tbody>\n",
       "    <tr>\n",
       "      <th>892</th>\n",
       "      <td>138678.817934</td>\n",
       "    </tr>\n",
       "    <tr>\n",
       "      <th>1105</th>\n",
       "      <td>305008.808241</td>\n",
       "    </tr>\n",
       "    <tr>\n",
       "      <th>413</th>\n",
       "      <td>133420.810780</td>\n",
       "    </tr>\n",
       "    <tr>\n",
       "      <th>522</th>\n",
       "      <td>171533.659061</td>\n",
       "    </tr>\n",
       "    <tr>\n",
       "      <th>1036</th>\n",
       "      <td>307214.384636</td>\n",
       "    </tr>\n",
       "    <tr>\n",
       "      <th>614</th>\n",
       "      <td>88023.125186</td>\n",
       "    </tr>\n",
       "    <tr>\n",
       "      <th>218</th>\n",
       "      <td>198144.411028</td>\n",
       "    </tr>\n",
       "    <tr>\n",
       "      <th>1160</th>\n",
       "      <td>167850.680826</td>\n",
       "    </tr>\n",
       "    <tr>\n",
       "      <th>649</th>\n",
       "      <td>88023.125186</td>\n",
       "    </tr>\n",
       "    <tr>\n",
       "      <th>887</th>\n",
       "      <td>126950.121597</td>\n",
       "    </tr>\n",
       "  </tbody>\n",
       "</table>\n",
       "</div>"
      ],
      "text/plain": [
       "         prediction\n",
       "892   138678.817934\n",
       "1105  305008.808241\n",
       "413   133420.810780\n",
       "522   171533.659061\n",
       "1036  307214.384636\n",
       "614    88023.125186\n",
       "218   198144.411028\n",
       "1160  167850.680826\n",
       "649    88023.125186\n",
       "887   126950.121597"
      ]
     },
     "execution_count": 15,
     "metadata": {},
     "output_type": "execute_result"
    }
   ],
   "source": [
    "random_forest_regressor_df.predict(df_numerical_test.iloc[:10]).to_frame()"
   ]
  },
  {
   "cell_type": "code",
   "execution_count": 16,
   "metadata": {
    "ExecuteTime": {
     "end_time": "2019-07-30T18:54:49.188965Z",
     "start_time": "2019-07-30T18:54:49.182965Z"
    },
    "pycharm": {
     "is_executing": false
    }
   },
   "outputs": [
    {
     "data": {
      "text/plain": [
       "{'bootstrap': True,\n",
       " 'ccp_alpha': 0.0,\n",
       " 'criterion': 'mse',\n",
       " 'max_depth': 5,\n",
       " 'max_features': 'auto',\n",
       " 'max_leaf_nodes': None,\n",
       " 'max_samples': None,\n",
       " 'min_impurity_decrease': 0.0,\n",
       " 'min_impurity_split': None,\n",
       " 'min_samples_leaf': 1,\n",
       " 'min_samples_split': 2,\n",
       " 'min_weight_fraction_leaf': 0.0,\n",
       " 'n_estimators': 100,\n",
       " 'n_jobs': -3,\n",
       " 'oob_score': False,\n",
       " 'random_state': 42,\n",
       " 'verbose': 0,\n",
       " 'warm_start': False}"
      ]
     },
     "execution_count": 16,
     "metadata": {},
     "output_type": "execute_result"
    }
   ],
   "source": [
    "random_forest_regressor_df.get_params()"
   ]
  },
  {
   "cell_type": "code",
   "execution_count": 17,
   "metadata": {
    "ExecuteTime": {
     "end_time": "2019-07-30T18:54:49.443565Z",
     "start_time": "2019-07-30T18:54:49.431562Z"
    },
    "pycharm": {
     "is_executing": false
    }
   },
   "outputs": [
    {
     "data": {
      "text/plain": [
       "RandomForestRegressorDF(bootstrap=True, ccp_alpha=0.0, criterion='mse',\n",
       "                        max_depth=7, max_features='auto', max_leaf_nodes=None,\n",
       "                        max_samples=None, min_impurity_decrease=0.0,\n",
       "                        min_impurity_split=None, min_samples_leaf=1,\n",
       "                        min_samples_split=2, min_weight_fraction_leaf=0.0,\n",
       "                        n_jobs=-3, oob_score=False, random_state=42, verbose=0,\n",
       "                        warm_start=False)"
      ]
     },
     "execution_count": 17,
     "metadata": {},
     "output_type": "execute_result"
    }
   ],
   "source": [
    "random_forest_regressor_df.set_params(max_depth=7)"
   ]
  },
  {
   "cell_type": "markdown",
   "metadata": {
    "raw_mimetype": "text/restructuredtext"
   },
   "source": [
    "The underlying scikit-learn regressor is stored in the `native_estimator` attribute:"
   ]
  },
  {
   "cell_type": "code",
   "execution_count": 18,
   "metadata": {
    "ExecuteTime": {
     "end_time": "2019-07-30T18:54:49.895830Z",
     "start_time": "2019-07-30T18:54:49.889831Z"
    },
    "pycharm": {
     "is_executing": false
    }
   },
   "outputs": [
    {
     "data": {
      "text/plain": [
       "RandomForestRegressor(max_depth=7, n_jobs=-3, random_state=42)"
      ]
     },
     "execution_count": 18,
     "metadata": {},
     "output_type": "execute_result"
    }
   ],
   "source": [
    "random_forest_regressor_df.native_estimator"
   ]
  },
  {
   "cell_type": "markdown",
   "metadata": {
    "raw_mimetype": "text/restructuredtext"
   },
   "source": [
    "Property `is_fitted` tells if the regressor is fitted, and -- for fitted estimators -- property `feature_names_in_` returns the names of the ingoing features as a pandas index."
   ]
  },
  {
   "cell_type": "code",
   "execution_count": 19,
   "metadata": {
    "ExecuteTime": {
     "end_time": "2019-07-30T18:54:50.523346Z",
     "start_time": "2019-07-30T18:54:50.518398Z"
    },
    "pycharm": {
     "is_executing": false
    }
   },
   "outputs": [
    {
     "data": {
      "text/plain": [
       "True"
      ]
     },
     "execution_count": 19,
     "metadata": {},
     "output_type": "execute_result"
    }
   ],
   "source": [
    "random_forest_regressor_df.is_fitted"
   ]
  },
  {
   "cell_type": "code",
   "execution_count": 20,
   "metadata": {
    "ExecuteTime": {
     "end_time": "2019-07-30T18:54:50.349489Z",
     "start_time": "2019-07-30T18:54:50.345466Z"
    },
    "pycharm": {
     "is_executing": false
    }
   },
   "outputs": [
    {
     "data": {
      "text/plain": [
       "Index(['LotFrontage', 'LotArea', 'OverallQual', 'OverallCond', 'YearBuilt',\n",
       "       'YearRemodAdd', 'MasVnrArea', 'BsmtFinSF1', 'BsmtFinSF2', 'BsmtUnfSF',\n",
       "       'TotalBsmtSF', '1stFlrSF', '2ndFlrSF', 'LowQualFinSF', 'GrLivArea',\n",
       "       'BsmtFullBath', 'BsmtHalfBath', 'FullBath', 'HalfBath', 'BedroomAbvGr',\n",
       "       'KitchenAbvGr', 'TotRmsAbvGrd', 'Fireplaces', 'GarageYrBlt',\n",
       "       'GarageCars', 'GarageArea', 'WoodDeckSF', 'OpenPorchSF',\n",
       "       'EnclosedPorch', '3SsnPorch', 'ScreenPorch', 'PoolArea'],\n",
       "      dtype='object', name='feature_in')"
      ]
     },
     "execution_count": 20,
     "metadata": {},
     "output_type": "execute_result"
    }
   ],
   "source": [
    "random_forest_regressor_df.feature_names_in_"
   ]
  },
  {
   "cell_type": "markdown",
   "metadata": {},
   "source": [
    "## Classifiers\n",
    "\n",
    "Classifiers follow the same logic:"
   ]
  },
  {
   "cell_type": "code",
   "execution_count": 21,
   "metadata": {
    "ExecuteTime": {
     "end_time": "2019-07-30T18:54:50.833368Z",
     "start_time": "2019-07-30T18:54:50.826362Z"
    },
    "pycharm": {
     "is_executing": false
    }
   },
   "outputs": [],
   "source": [
    "# we create for house prices house below 100k, below 200k, and above 200k for multi-label classification\n",
    "y_classes = housing_target_sr.apply(lambda x: '>=200k' if x >= 200000 else '>=100k' if x >= 100000 else '<100k')\n",
    "\n",
    "df_numerical_train, df_numerical_test, y_classification_train, y_classification_test = train_test_split(\n",
    "    numerical_features_df,\n",
    "    y_classes,\n",
    "    random_state=42\n",
    ")"
   ]
  },
  {
   "cell_type": "code",
   "execution_count": 22,
   "metadata": {
    "ExecuteTime": {
     "end_time": "2019-07-30T18:54:51.432224Z",
     "start_time": "2019-07-30T18:54:51.341154Z"
    },
    "pycharm": {
     "is_executing": false
    }
   },
   "outputs": [
    {
     "data": {
      "text/plain": [
       "0.8767123287671232"
      ]
     },
     "execution_count": 22,
     "metadata": {},
     "output_type": "execute_result"
    }
   ],
   "source": [
    "random_forest_classifier_df = RandomForestClassifierDF(\n",
    "    n_estimators=100,\n",
    "    max_depth=5,\n",
    "    random_state=42,\n",
    "    n_jobs=-3\n",
    ")\n",
    "random_forest_classifier_df.fit(df_numerical_train, y_classification_train)\n",
    "random_forest_classifier_df.score(df_numerical_test, y_classification_test)"
   ]
  },
  {
   "cell_type": "code",
   "execution_count": 23,
   "metadata": {},
   "outputs": [
    {
     "data": {
      "text/html": [
       "<div>\n",
       "<style scoped>\n",
       "    .dataframe tbody tr th:only-of-type {\n",
       "        vertical-align: middle;\n",
       "    }\n",
       "\n",
       "    .dataframe tbody tr th {\n",
       "        vertical-align: top;\n",
       "    }\n",
       "\n",
       "    .dataframe thead th {\n",
       "        text-align: right;\n",
       "    }\n",
       "</style>\n",
       "<table border=\"1\" class=\"dataframe\">\n",
       "  <thead>\n",
       "    <tr style=\"text-align: right;\">\n",
       "      <th></th>\n",
       "      <th>prediction</th>\n",
       "    </tr>\n",
       "  </thead>\n",
       "  <tbody>\n",
       "    <tr>\n",
       "      <th>892</th>\n",
       "      <td>&gt;=100k</td>\n",
       "    </tr>\n",
       "    <tr>\n",
       "      <th>1105</th>\n",
       "      <td>&gt;=200k</td>\n",
       "    </tr>\n",
       "    <tr>\n",
       "      <th>413</th>\n",
       "      <td>&gt;=100k</td>\n",
       "    </tr>\n",
       "    <tr>\n",
       "      <th>522</th>\n",
       "      <td>&gt;=100k</td>\n",
       "    </tr>\n",
       "    <tr>\n",
       "      <th>1036</th>\n",
       "      <td>&gt;=200k</td>\n",
       "    </tr>\n",
       "    <tr>\n",
       "      <th>614</th>\n",
       "      <td>&lt;100k</td>\n",
       "    </tr>\n",
       "    <tr>\n",
       "      <th>218</th>\n",
       "      <td>&gt;=100k</td>\n",
       "    </tr>\n",
       "    <tr>\n",
       "      <th>1160</th>\n",
       "      <td>&gt;=100k</td>\n",
       "    </tr>\n",
       "    <tr>\n",
       "      <th>649</th>\n",
       "      <td>&lt;100k</td>\n",
       "    </tr>\n",
       "    <tr>\n",
       "      <th>887</th>\n",
       "      <td>&gt;=100k</td>\n",
       "    </tr>\n",
       "  </tbody>\n",
       "</table>\n",
       "</div>"
      ],
      "text/plain": [
       "     prediction\n",
       "892      >=100k\n",
       "1105     >=200k\n",
       "413      >=100k\n",
       "522      >=100k\n",
       "1036     >=200k\n",
       "614       <100k\n",
       "218      >=100k\n",
       "1160     >=100k\n",
       "649       <100k\n",
       "887      >=100k"
      ]
     },
     "execution_count": 23,
     "metadata": {},
     "output_type": "execute_result"
    }
   ],
   "source": [
    "random_forest_classifier_df.predict(df_numerical_test.iloc[:10]).to_frame()"
   ]
  },
  {
   "cell_type": "code",
   "execution_count": 24,
   "metadata": {},
   "outputs": [
    {
     "data": {
      "text/html": [
       "<div>\n",
       "<style scoped>\n",
       "    .dataframe tbody tr th:only-of-type {\n",
       "        vertical-align: middle;\n",
       "    }\n",
       "\n",
       "    .dataframe tbody tr th {\n",
       "        vertical-align: top;\n",
       "    }\n",
       "\n",
       "    .dataframe thead th {\n",
       "        text-align: right;\n",
       "    }\n",
       "</style>\n",
       "<table border=\"1\" class=\"dataframe\">\n",
       "  <thead>\n",
       "    <tr style=\"text-align: right;\">\n",
       "      <th></th>\n",
       "      <th>&lt;100k</th>\n",
       "      <th>&gt;=100k</th>\n",
       "      <th>&gt;=200k</th>\n",
       "    </tr>\n",
       "  </thead>\n",
       "  <tbody>\n",
       "    <tr>\n",
       "      <th>892</th>\n",
       "      <td>0.056555</td>\n",
       "      <td>0.905298</td>\n",
       "      <td>0.038148</td>\n",
       "    </tr>\n",
       "    <tr>\n",
       "      <th>1105</th>\n",
       "      <td>0.001141</td>\n",
       "      <td>0.091114</td>\n",
       "      <td>0.907745</td>\n",
       "    </tr>\n",
       "    <tr>\n",
       "      <th>413</th>\n",
       "      <td>0.104472</td>\n",
       "      <td>0.860927</td>\n",
       "      <td>0.034602</td>\n",
       "    </tr>\n",
       "    <tr>\n",
       "      <th>522</th>\n",
       "      <td>0.047416</td>\n",
       "      <td>0.814917</td>\n",
       "      <td>0.137667</td>\n",
       "    </tr>\n",
       "    <tr>\n",
       "      <th>1036</th>\n",
       "      <td>0.000812</td>\n",
       "      <td>0.081764</td>\n",
       "      <td>0.917424</td>\n",
       "    </tr>\n",
       "    <tr>\n",
       "      <th>614</th>\n",
       "      <td>0.795575</td>\n",
       "      <td>0.201516</td>\n",
       "      <td>0.002909</td>\n",
       "    </tr>\n",
       "    <tr>\n",
       "      <th>218</th>\n",
       "      <td>0.023440</td>\n",
       "      <td>0.569006</td>\n",
       "      <td>0.407554</td>\n",
       "    </tr>\n",
       "    <tr>\n",
       "      <th>1160</th>\n",
       "      <td>0.055070</td>\n",
       "      <td>0.899930</td>\n",
       "      <td>0.045000</td>\n",
       "    </tr>\n",
       "    <tr>\n",
       "      <th>649</th>\n",
       "      <td>0.810701</td>\n",
       "      <td>0.186019</td>\n",
       "      <td>0.003280</td>\n",
       "    </tr>\n",
       "    <tr>\n",
       "      <th>887</th>\n",
       "      <td>0.066446</td>\n",
       "      <td>0.896820</td>\n",
       "      <td>0.036734</td>\n",
       "    </tr>\n",
       "  </tbody>\n",
       "</table>\n",
       "</div>"
      ],
      "text/plain": [
       "         <100k    >=100k    >=200k\n",
       "892   0.056555  0.905298  0.038148\n",
       "1105  0.001141  0.091114  0.907745\n",
       "413   0.104472  0.860927  0.034602\n",
       "522   0.047416  0.814917  0.137667\n",
       "1036  0.000812  0.081764  0.917424\n",
       "614   0.795575  0.201516  0.002909\n",
       "218   0.023440  0.569006  0.407554\n",
       "1160  0.055070  0.899930  0.045000\n",
       "649   0.810701  0.186019  0.003280\n",
       "887   0.066446  0.896820  0.036734"
      ]
     },
     "execution_count": 24,
     "metadata": {},
     "output_type": "execute_result"
    }
   ],
   "source": [
    "random_forest_classifier_df.predict_proba(df_numerical_test.iloc[:10])"
   ]
  },
  {
   "cell_type": "code",
   "execution_count": 25,
   "metadata": {},
   "outputs": [
    {
     "data": {
      "text/html": [
       "<div>\n",
       "<style scoped>\n",
       "    .dataframe tbody tr th:only-of-type {\n",
       "        vertical-align: middle;\n",
       "    }\n",
       "\n",
       "    .dataframe tbody tr th {\n",
       "        vertical-align: top;\n",
       "    }\n",
       "\n",
       "    .dataframe thead th {\n",
       "        text-align: right;\n",
       "    }\n",
       "</style>\n",
       "<table border=\"1\" class=\"dataframe\">\n",
       "  <thead>\n",
       "    <tr style=\"text-align: right;\">\n",
       "      <th></th>\n",
       "      <th>&lt;100k</th>\n",
       "      <th>&gt;=100k</th>\n",
       "      <th>&gt;=200k</th>\n",
       "    </tr>\n",
       "  </thead>\n",
       "  <tbody>\n",
       "    <tr>\n",
       "      <th>892</th>\n",
       "      <td>-2.872548</td>\n",
       "      <td>-0.099491</td>\n",
       "      <td>-3.266291</td>\n",
       "    </tr>\n",
       "    <tr>\n",
       "      <th>1105</th>\n",
       "      <td>-6.775823</td>\n",
       "      <td>-2.395643</td>\n",
       "      <td>-0.096792</td>\n",
       "    </tr>\n",
       "    <tr>\n",
       "      <th>413</th>\n",
       "      <td>-2.258840</td>\n",
       "      <td>-0.149746</td>\n",
       "      <td>-3.363852</td>\n",
       "    </tr>\n",
       "    <tr>\n",
       "      <th>522</th>\n",
       "      <td>-3.048800</td>\n",
       "      <td>-0.204669</td>\n",
       "      <td>-1.982916</td>\n",
       "    </tr>\n",
       "    <tr>\n",
       "      <th>1036</th>\n",
       "      <td>-7.116299</td>\n",
       "      <td>-2.503917</td>\n",
       "      <td>-0.086185</td>\n",
       "    </tr>\n",
       "    <tr>\n",
       "      <th>614</th>\n",
       "      <td>-0.228690</td>\n",
       "      <td>-1.601889</td>\n",
       "      <td>-5.839849</td>\n",
       "    </tr>\n",
       "    <tr>\n",
       "      <th>218</th>\n",
       "      <td>-3.753297</td>\n",
       "      <td>-0.563864</td>\n",
       "      <td>-0.897583</td>\n",
       "    </tr>\n",
       "    <tr>\n",
       "      <th>1160</th>\n",
       "      <td>-2.899155</td>\n",
       "      <td>-0.105438</td>\n",
       "      <td>-3.101087</td>\n",
       "    </tr>\n",
       "    <tr>\n",
       "      <th>649</th>\n",
       "      <td>-0.209856</td>\n",
       "      <td>-1.681904</td>\n",
       "      <td>-5.720017</td>\n",
       "    </tr>\n",
       "    <tr>\n",
       "      <th>887</th>\n",
       "      <td>-2.711371</td>\n",
       "      <td>-0.108900</td>\n",
       "      <td>-3.304040</td>\n",
       "    </tr>\n",
       "  </tbody>\n",
       "</table>\n",
       "</div>"
      ],
      "text/plain": [
       "         <100k    >=100k    >=200k\n",
       "892  -2.872548 -0.099491 -3.266291\n",
       "1105 -6.775823 -2.395643 -0.096792\n",
       "413  -2.258840 -0.149746 -3.363852\n",
       "522  -3.048800 -0.204669 -1.982916\n",
       "1036 -7.116299 -2.503917 -0.086185\n",
       "614  -0.228690 -1.601889 -5.839849\n",
       "218  -3.753297 -0.563864 -0.897583\n",
       "1160 -2.899155 -0.105438 -3.101087\n",
       "649  -0.209856 -1.681904 -5.720017\n",
       "887  -2.711371 -0.108900 -3.304040"
      ]
     },
     "execution_count": 25,
     "metadata": {},
     "output_type": "execute_result"
    }
   ],
   "source": [
    "random_forest_classifier_df.predict_log_proba(df_numerical_test.iloc[:10])"
   ]
  },
  {
   "cell_type": "markdown",
   "metadata": {},
   "source": [
    "## Pipeline"
   ]
  },
  {
   "cell_type": "markdown",
   "metadata": {
    "ExecuteTime": {
     "end_time": "2019-07-26T08:37:37.633663Z",
     "start_time": "2019-07-26T08:37:37.618669Z"
    },
    "raw_mimetype": "text/restructuredtext"
   },
   "source": [
    "We can combine the above steps to build a full predictive pipeline. `sklearndf` provides two useful, specialised pipeline objects for this, `RegressorPipelineDF` and `ClassifierPipelineDF`. Both implement a special two-step pipeline with one preprocessing step and one prediction step, while staying compatible with the general sklearn pipeline idiom."
   ]
  },
  {
   "cell_type": "code",
   "execution_count": 26,
   "metadata": {
    "ExecuteTime": {
     "end_time": "2019-07-30T18:54:51.520150Z",
     "start_time": "2019-07-30T18:54:51.513148Z"
    },
    "pycharm": {
     "is_executing": false
    }
   },
   "outputs": [],
   "source": [
    "pipeline_df = RegressorPipelineDF(\n",
    "    preprocessing=preprocessing_df,\n",
    "    regressor=RandomForestRegressorDF(\n",
    "        n_estimators=1000,\n",
    "        max_features=2/3,\n",
    "        max_depth=7,\n",
    "        random_state=42,\n",
    "        n_jobs=-3\n",
    "    )\n",
    ")"
   ]
  },
  {
   "cell_type": "code",
   "execution_count": 27,
   "metadata": {
    "ExecuteTime": {
     "end_time": "2019-07-30T18:54:51.874135Z",
     "start_time": "2019-07-30T18:54:51.522150Z"
    },
    "pycharm": {
     "is_executing": false
    }
   },
   "outputs": [
    {
     "data": {
      "text/plain": [
       "0.8892115754403426"
      ]
     },
     "execution_count": 27,
     "metadata": {},
     "output_type": "execute_result"
    }
   ],
   "source": [
    "df_train, df_test, y_train, y_test = train_test_split(housing_features_df, housing_target_sr, random_state=42)\n",
    "pipeline_df.fit(df_train, y_train)\n",
    "pipeline_df.score(df_test, y_test)"
   ]
  },
  {
   "cell_type": "markdown",
   "metadata": {},
   "source": [
    "# Extras"
   ]
  },
  {
   "cell_type": "markdown",
   "metadata": {
    "raw_mimetype": "text/restructuredtext"
   },
   "source": [
    "`sklearndf` also provides some additional estimators developed by Gamma or third parties, which are useful additions to the scikit-learn repertoire, and which follow the scikit-learn idiom. These are provided in `.extra` modules, such as\n",
    "\n",
    "- `sklearndf.regression.extra.LGBMRegressorDF`\n",
    "- `sklearndf.transformation.extra.BorutaDF`\n"
   ]
  },
  {
   "cell_type": "markdown",
   "metadata": {},
   "source": [
    "## LightGBM regressor"
   ]
  },
  {
   "cell_type": "code",
   "execution_count": 28,
   "metadata": {
    "ExecuteTime": {
     "end_time": "2019-07-30T18:54:52.046129Z",
     "start_time": "2019-07-30T18:54:51.876135Z"
    },
    "pycharm": {
     "is_executing": false
    },
    "scrolled": true
   },
   "outputs": [
    {
     "data": {
      "text/html": [
       "<div>\n",
       "<style scoped>\n",
       "    .dataframe tbody tr th:only-of-type {\n",
       "        vertical-align: middle;\n",
       "    }\n",
       "\n",
       "    .dataframe tbody tr th {\n",
       "        vertical-align: top;\n",
       "    }\n",
       "\n",
       "    .dataframe thead th {\n",
       "        text-align: right;\n",
       "    }\n",
       "</style>\n",
       "<table border=\"1\" class=\"dataframe\">\n",
       "  <thead>\n",
       "    <tr style=\"text-align: right;\">\n",
       "      <th></th>\n",
       "      <th>prediction</th>\n",
       "    </tr>\n",
       "  </thead>\n",
       "  <tbody>\n",
       "    <tr>\n",
       "      <th>892</th>\n",
       "      <td>139447.461334</td>\n",
       "    </tr>\n",
       "    <tr>\n",
       "      <th>1105</th>\n",
       "      <td>288031.725712</td>\n",
       "    </tr>\n",
       "    <tr>\n",
       "      <th>413</th>\n",
       "      <td>124917.506705</td>\n",
       "    </tr>\n",
       "    <tr>\n",
       "      <th>522</th>\n",
       "      <td>167320.406141</td>\n",
       "    </tr>\n",
       "    <tr>\n",
       "      <th>1036</th>\n",
       "      <td>315868.109901</td>\n",
       "    </tr>\n",
       "    <tr>\n",
       "      <th>614</th>\n",
       "      <td>77154.764703</td>\n",
       "    </tr>\n",
       "    <tr>\n",
       "      <th>218</th>\n",
       "      <td>223173.451376</td>\n",
       "    </tr>\n",
       "    <tr>\n",
       "      <th>1160</th>\n",
       "      <td>149507.513568</td>\n",
       "    </tr>\n",
       "    <tr>\n",
       "      <th>649</th>\n",
       "      <td>76728.165603</td>\n",
       "    </tr>\n",
       "    <tr>\n",
       "      <th>887</th>\n",
       "      <td>136832.195002</td>\n",
       "    </tr>\n",
       "  </tbody>\n",
       "</table>\n",
       "</div>"
      ],
      "text/plain": [
       "         prediction\n",
       "892   139447.461334\n",
       "1105  288031.725712\n",
       "413   124917.506705\n",
       "522   167320.406141\n",
       "1036  315868.109901\n",
       "614    77154.764703\n",
       "218   223173.451376\n",
       "1160  149507.513568\n",
       "649    76728.165603\n",
       "887   136832.195002"
      ]
     },
     "execution_count": 28,
     "metadata": {},
     "output_type": "execute_result"
    }
   ],
   "source": [
    "lgbm_df = LGBMRegressorDF(n_estimators=100, max_depth=8)\n",
    "lgbm_df.fit(df_numerical_train, y_train)\n",
    "lgbm_df.predict(df_numerical_test.iloc[:10]).to_frame()"
   ]
  },
  {
   "cell_type": "markdown",
   "metadata": {},
   "source": [
    "## Boruta"
   ]
  },
  {
   "cell_type": "markdown",
   "metadata": {
    "raw_mimetype": "text/restructuredtext"
   },
   "source": [
    "[Boruta](https://www.jstatsoft.org/article/view/v036i11) is a smart feature selection method to eliminate all features whose predictive power is not better than random noise.\n",
    "\n",
    "The `sklearndf.transformation.extra.BorutaDF` transformer provides easy access to this powerful method. The basis of this is a tree-based learner, usually a random forest.\n",
    "\n",
    "For the random forest, we rely on default parameters but set the maximum tree depth to 5 (for Boruta, setting a depth between 3 and 7 is highly recommended and depends on the number of features and expected complexity of the feature/target interactions). The number of trees is automatically managed by the Boruta feature selector (argument ``n_estimators=\"auto\"``).\n"
   ]
  },
  {
   "cell_type": "code",
   "execution_count": 29,
   "metadata": {},
   "outputs": [],
   "source": [
    "boruta_pipeline = PipelineDF(\n",
    "    steps=[\n",
    "        ('preprocess', preprocessing_df),\n",
    "        ('boruta', BorutaDF(\n",
    "            estimator=RandomForestRegressorDF(max_depth=5, n_jobs=-3), \n",
    "            n_estimators=\"auto\", \n",
    "            random_state=42,\n",
    "            verbose=2\n",
    "        )),\n",
    "    ]\n",
    ")"
   ]
  },
  {
   "cell_type": "code",
   "execution_count": 30,
   "metadata": {
    "scrolled": true
   },
   "outputs": [
    {
     "name": "stdout",
     "output_type": "stream",
     "text": [
      "Iteration: \t1 / 100\n",
      "Confirmed: \t0\n",
      "Tentative: \t303\n",
      "Rejected: \t0\n",
      "Iteration: \t2 / 100\n",
      "Confirmed: \t0\n",
      "Tentative: \t303\n",
      "Rejected: \t0\n",
      "Iteration: \t3 / 100\n",
      "Confirmed: \t0\n",
      "Tentative: \t303\n",
      "Rejected: \t0\n",
      "Iteration: \t4 / 100\n",
      "Confirmed: \t0\n",
      "Tentative: \t303\n",
      "Rejected: \t0\n",
      "Iteration: \t5 / 100\n",
      "Confirmed: \t0\n",
      "Tentative: \t303\n",
      "Rejected: \t0\n",
      "Iteration: \t6 / 100\n",
      "Confirmed: \t0\n",
      "Tentative: \t303\n",
      "Rejected: \t0\n",
      "Iteration: \t7 / 100\n",
      "Confirmed: \t0\n",
      "Tentative: \t303\n",
      "Rejected: \t0\n",
      "Iteration: \t8 / 100\n",
      "Confirmed: \t0\n",
      "Tentative: \t29\n",
      "Rejected: \t274\n",
      "Iteration: \t9 / 100\n",
      "Confirmed: \t12\n",
      "Tentative: \t17\n",
      "Rejected: \t274\n",
      "Iteration: \t10 / 100\n",
      "Confirmed: \t12\n",
      "Tentative: \t17\n",
      "Rejected: \t274\n",
      "Iteration: \t11 / 100\n",
      "Confirmed: \t12\n",
      "Tentative: \t17\n",
      "Rejected: \t274\n",
      "Iteration: \t12 / 100\n",
      "Confirmed: \t13\n",
      "Tentative: \t14\n",
      "Rejected: \t276\n",
      "Iteration: \t13 / 100\n",
      "Confirmed: \t13\n",
      "Tentative: \t14\n",
      "Rejected: \t276\n",
      "Iteration: \t14 / 100\n",
      "Confirmed: \t13\n",
      "Tentative: \t14\n",
      "Rejected: \t276\n",
      "Iteration: \t15 / 100\n",
      "Confirmed: \t13\n",
      "Tentative: \t14\n",
      "Rejected: \t276\n",
      "Iteration: \t16 / 100\n",
      "Confirmed: \t13\n",
      "Tentative: \t12\n",
      "Rejected: \t278\n",
      "Iteration: \t17 / 100\n",
      "Confirmed: \t13\n",
      "Tentative: \t12\n",
      "Rejected: \t278\n",
      "Iteration: \t18 / 100\n",
      "Confirmed: \t13\n",
      "Tentative: \t12\n",
      "Rejected: \t278\n",
      "Iteration: \t19 / 100\n",
      "Confirmed: \t14\n",
      "Tentative: \t11\n",
      "Rejected: \t278\n",
      "Iteration: \t20 / 100\n",
      "Confirmed: \t14\n",
      "Tentative: \t10\n",
      "Rejected: \t279\n",
      "Iteration: \t21 / 100\n",
      "Confirmed: \t14\n",
      "Tentative: \t10\n",
      "Rejected: \t279\n",
      "Iteration: \t22 / 100\n",
      "Confirmed: \t14\n",
      "Tentative: \t10\n",
      "Rejected: \t279\n",
      "Iteration: \t23 / 100\n",
      "Confirmed: \t14\n",
      "Tentative: \t9\n",
      "Rejected: \t280\n",
      "Iteration: \t24 / 100\n",
      "Confirmed: \t14\n",
      "Tentative: \t9\n",
      "Rejected: \t280\n",
      "Iteration: \t25 / 100\n",
      "Confirmed: \t14\n",
      "Tentative: \t9\n",
      "Rejected: \t280\n",
      "Iteration: \t26 / 100\n",
      "Confirmed: \t14\n",
      "Tentative: \t9\n",
      "Rejected: \t280\n",
      "Iteration: \t27 / 100\n",
      "Confirmed: \t14\n",
      "Tentative: \t9\n",
      "Rejected: \t280\n",
      "Iteration: \t28 / 100\n",
      "Confirmed: \t14\n",
      "Tentative: \t9\n",
      "Rejected: \t280\n",
      "Iteration: \t29 / 100\n",
      "Confirmed: \t14\n",
      "Tentative: \t7\n",
      "Rejected: \t282\n",
      "Iteration: \t30 / 100\n",
      "Confirmed: \t14\n",
      "Tentative: \t7\n",
      "Rejected: \t282\n",
      "Iteration: \t31 / 100\n",
      "Confirmed: \t14\n",
      "Tentative: \t7\n",
      "Rejected: \t282\n",
      "Iteration: \t32 / 100\n",
      "Confirmed: \t14\n",
      "Tentative: \t7\n",
      "Rejected: \t282\n",
      "Iteration: \t33 / 100\n",
      "Confirmed: \t14\n",
      "Tentative: \t7\n",
      "Rejected: \t282\n",
      "Iteration: \t34 / 100\n",
      "Confirmed: \t15\n",
      "Tentative: \t6\n",
      "Rejected: \t282\n",
      "Iteration: \t35 / 100\n",
      "Confirmed: \t15\n",
      "Tentative: \t6\n",
      "Rejected: \t282\n",
      "Iteration: \t36 / 100\n",
      "Confirmed: \t15\n",
      "Tentative: \t6\n",
      "Rejected: \t282\n",
      "Iteration: \t37 / 100\n",
      "Confirmed: \t15\n",
      "Tentative: \t5\n",
      "Rejected: \t283\n",
      "Iteration: \t38 / 100\n",
      "Confirmed: \t15\n",
      "Tentative: \t5\n",
      "Rejected: \t283\n",
      "Iteration: \t39 / 100\n",
      "Confirmed: \t15\n",
      "Tentative: \t5\n",
      "Rejected: \t283\n",
      "Iteration: \t40 / 100\n",
      "Confirmed: \t15\n",
      "Tentative: \t5\n",
      "Rejected: \t283\n",
      "Iteration: \t41 / 100\n",
      "Confirmed: \t15\n",
      "Tentative: \t5\n",
      "Rejected: \t283\n",
      "Iteration: \t42 / 100\n",
      "Confirmed: \t15\n",
      "Tentative: \t5\n",
      "Rejected: \t283\n",
      "Iteration: \t43 / 100\n",
      "Confirmed: \t15\n",
      "Tentative: \t5\n",
      "Rejected: \t283\n",
      "Iteration: \t44 / 100\n",
      "Confirmed: \t15\n",
      "Tentative: \t5\n",
      "Rejected: \t283\n",
      "Iteration: \t45 / 100\n",
      "Confirmed: \t15\n",
      "Tentative: \t5\n",
      "Rejected: \t283\n",
      "Iteration: \t46 / 100\n",
      "Confirmed: \t15\n",
      "Tentative: \t5\n",
      "Rejected: \t283\n",
      "Iteration: \t47 / 100\n",
      "Confirmed: \t15\n",
      "Tentative: \t5\n",
      "Rejected: \t283\n",
      "Iteration: \t48 / 100\n",
      "Confirmed: \t15\n",
      "Tentative: \t5\n",
      "Rejected: \t283\n",
      "Iteration: \t49 / 100\n",
      "Confirmed: \t15\n",
      "Tentative: \t5\n",
      "Rejected: \t283\n",
      "Iteration: \t50 / 100\n",
      "Confirmed: \t15\n",
      "Tentative: \t5\n",
      "Rejected: \t283\n",
      "Iteration: \t51 / 100\n",
      "Confirmed: \t16\n",
      "Tentative: \t4\n",
      "Rejected: \t283\n",
      "Iteration: \t52 / 100\n",
      "Confirmed: \t16\n",
      "Tentative: \t4\n",
      "Rejected: \t283\n",
      "Iteration: \t53 / 100\n",
      "Confirmed: \t16\n",
      "Tentative: \t4\n",
      "Rejected: \t283\n",
      "Iteration: \t54 / 100\n",
      "Confirmed: \t16\n",
      "Tentative: \t4\n",
      "Rejected: \t283\n",
      "Iteration: \t55 / 100\n",
      "Confirmed: \t16\n",
      "Tentative: \t4\n",
      "Rejected: \t283\n",
      "Iteration: \t56 / 100\n",
      "Confirmed: \t16\n",
      "Tentative: \t4\n",
      "Rejected: \t283\n",
      "Iteration: \t57 / 100\n",
      "Confirmed: \t16\n",
      "Tentative: \t4\n",
      "Rejected: \t283\n",
      "Iteration: \t58 / 100\n",
      "Confirmed: \t16\n",
      "Tentative: \t4\n",
      "Rejected: \t283\n",
      "Iteration: \t59 / 100\n",
      "Confirmed: \t16\n",
      "Tentative: \t4\n",
      "Rejected: \t283\n",
      "Iteration: \t60 / 100\n",
      "Confirmed: \t16\n",
      "Tentative: \t4\n",
      "Rejected: \t283\n",
      "Iteration: \t61 / 100\n",
      "Confirmed: \t16\n",
      "Tentative: \t4\n",
      "Rejected: \t283\n",
      "Iteration: \t62 / 100\n",
      "Confirmed: \t16\n",
      "Tentative: \t4\n",
      "Rejected: \t283\n",
      "Iteration: \t63 / 100\n",
      "Confirmed: \t16\n",
      "Tentative: \t4\n",
      "Rejected: \t283\n",
      "Iteration: \t64 / 100\n",
      "Confirmed: \t16\n",
      "Tentative: \t4\n",
      "Rejected: \t283\n",
      "Iteration: \t65 / 100\n",
      "Confirmed: \t16\n",
      "Tentative: \t4\n",
      "Rejected: \t283\n",
      "Iteration: \t66 / 100\n",
      "Confirmed: \t16\n",
      "Tentative: \t4\n",
      "Rejected: \t283\n",
      "Iteration: \t67 / 100\n",
      "Confirmed: \t16\n",
      "Tentative: \t4\n",
      "Rejected: \t283\n",
      "Iteration: \t68 / 100\n",
      "Confirmed: \t16\n",
      "Tentative: \t4\n",
      "Rejected: \t283\n",
      "Iteration: \t69 / 100\n",
      "Confirmed: \t16\n",
      "Tentative: \t4\n",
      "Rejected: \t283\n",
      "Iteration: \t70 / 100\n",
      "Confirmed: \t16\n",
      "Tentative: \t4\n",
      "Rejected: \t283\n",
      "Iteration: \t71 / 100\n",
      "Confirmed: \t16\n",
      "Tentative: \t4\n",
      "Rejected: \t283\n",
      "Iteration: \t72 / 100\n",
      "Confirmed: \t16\n",
      "Tentative: \t4\n",
      "Rejected: \t283\n",
      "Iteration: \t73 / 100\n",
      "Confirmed: \t16\n",
      "Tentative: \t4\n",
      "Rejected: \t283\n",
      "Iteration: \t74 / 100\n",
      "Confirmed: \t16\n",
      "Tentative: \t4\n",
      "Rejected: \t283\n",
      "Iteration: \t75 / 100\n",
      "Confirmed: \t16\n",
      "Tentative: \t4\n",
      "Rejected: \t283\n",
      "Iteration: \t76 / 100\n",
      "Confirmed: \t16\n",
      "Tentative: \t4\n",
      "Rejected: \t283\n",
      "Iteration: \t77 / 100\n",
      "Confirmed: \t16\n",
      "Tentative: \t4\n",
      "Rejected: \t283\n",
      "Iteration: \t78 / 100\n",
      "Confirmed: \t16\n",
      "Tentative: \t4\n",
      "Rejected: \t283\n",
      "Iteration: \t79 / 100\n",
      "Confirmed: \t16\n",
      "Tentative: \t4\n",
      "Rejected: \t283\n",
      "Iteration: \t80 / 100\n",
      "Confirmed: \t16\n",
      "Tentative: \t4\n",
      "Rejected: \t283\n",
      "Iteration: \t81 / 100\n",
      "Confirmed: \t16\n",
      "Tentative: \t4\n",
      "Rejected: \t283\n",
      "Iteration: \t82 / 100\n",
      "Confirmed: \t16\n",
      "Tentative: \t4\n",
      "Rejected: \t283\n",
      "Iteration: \t83 / 100\n",
      "Confirmed: \t16\n",
      "Tentative: \t4\n",
      "Rejected: \t283\n",
      "Iteration: \t84 / 100\n",
      "Confirmed: \t16\n",
      "Tentative: \t4\n",
      "Rejected: \t283\n",
      "Iteration: \t85 / 100\n",
      "Confirmed: \t16\n",
      "Tentative: \t4\n",
      "Rejected: \t283\n",
      "Iteration: \t86 / 100\n",
      "Confirmed: \t16\n",
      "Tentative: \t4\n",
      "Rejected: \t283\n",
      "Iteration: \t87 / 100\n",
      "Confirmed: \t16\n",
      "Tentative: \t4\n",
      "Rejected: \t283\n",
      "Iteration: \t88 / 100\n",
      "Confirmed: \t16\n",
      "Tentative: \t4\n",
      "Rejected: \t283\n",
      "Iteration: \t89 / 100\n",
      "Confirmed: \t16\n",
      "Tentative: \t4\n",
      "Rejected: \t283\n",
      "Iteration: \t90 / 100\n",
      "Confirmed: \t16\n",
      "Tentative: \t4\n",
      "Rejected: \t283\n",
      "Iteration: \t91 / 100\n",
      "Confirmed: \t16\n",
      "Tentative: \t4\n",
      "Rejected: \t283\n",
      "Iteration: \t92 / 100\n",
      "Confirmed: \t16\n",
      "Tentative: \t4\n",
      "Rejected: \t283\n",
      "Iteration: \t93 / 100\n",
      "Confirmed: \t16\n",
      "Tentative: \t4\n",
      "Rejected: \t283\n",
      "Iteration: \t94 / 100\n",
      "Confirmed: \t16\n",
      "Tentative: \t4\n",
      "Rejected: \t283\n",
      "Iteration: \t95 / 100\n",
      "Confirmed: \t16\n",
      "Tentative: \t4\n",
      "Rejected: \t283\n",
      "Iteration: \t96 / 100\n",
      "Confirmed: \t16\n",
      "Tentative: \t4\n",
      "Rejected: \t283\n",
      "Iteration: \t97 / 100\n",
      "Confirmed: \t16\n",
      "Tentative: \t4\n",
      "Rejected: \t283\n",
      "Iteration: \t98 / 100\n",
      "Confirmed: \t16\n",
      "Tentative: \t4\n",
      "Rejected: \t283\n",
      "Iteration: \t99 / 100\n",
      "Confirmed: \t16\n",
      "Tentative: \t4\n",
      "Rejected: \t283\n",
      "\n",
      "\n",
      "BorutaPy finished running.\n",
      "\n",
      "Iteration: \t100 / 100\n",
      "Confirmed: \t16\n",
      "Tentative: \t3\n",
      "Rejected: \t283\n"
     ]
    },
    {
     "data": {
      "text/plain": [
       "PipelineDF(memory=None,\n",
       "           steps=[('preprocess',\n",
       "                   ColumnTransformerDF(n_jobs=None, remainder='drop',\n",
       "                                       sparse_threshold=0.3,\n",
       "                                       transformer_weights=None,\n",
       "                                       transformers=[('categorical',\n",
       "                                                      PipelineDF(memory=None,\n",
       "                                                                 steps=[('imputer',\n",
       "                                                                         SimpleImputerDF(add_indicator=False,\n",
       "                                                                                         copy=True,\n",
       "                                                                                         fill_value='<unknown>',\n",
       "                                                                                         missing_values=None,\n",
       "                                                                                         strategy='constant')),\n",
       "                                                                        ('one-hot',\n",
       "                                                                         OneHotEncoderDF(cat...\n",
       "       'GarageCars', 'GarageArea', 'WoodDeckSF', 'OpenPorchSF',\n",
       "       'EnclosedPorch', '3SsnPorch', 'ScreenPorch', 'PoolArea'],\n",
       "      dtype='object'))],\n",
       "                                       verbose=False)),\n",
       "                  ('boruta',\n",
       "                   BorutaDF(estimator=RandomForestRegressor(max_depth=5,\n",
       "                                                            n_estimators=126,\n",
       "                                                            n_jobs=-3,\n",
       "                                                            random_state=<mtrand.RandomState object at 0x0000011AF63B5278>),\n",
       "                            n_estimators='auto',\n",
       "                            random_state=<mtrand.RandomState object at 0x0000011AF63B5278>,\n",
       "                            verbose=2))],\n",
       "           verbose=False)"
      ]
     },
     "execution_count": 30,
     "metadata": {},
     "output_type": "execute_result"
    }
   ],
   "source": [
    "boruta_pipeline.fit(X=housing_features_df, y=housing_target_sr)"
   ]
  },
  {
   "cell_type": "markdown",
   "metadata": {},
   "source": [
    "Boruta is implemented as natively an sklearn transformer; its output features are all features that passed the Boruta test."
   ]
  },
  {
   "cell_type": "code",
   "execution_count": 31,
   "metadata": {},
   "outputs": [
    {
     "data": {
      "text/plain": [
       "['BsmtQual_Ex',\n",
       " 'LotFrontage',\n",
       " 'LotArea',\n",
       " 'OverallQual',\n",
       " 'YearBuilt',\n",
       " 'YearRemodAdd',\n",
       " 'MasVnrArea',\n",
       " 'BsmtFinSF1',\n",
       " 'TotalBsmtSF',\n",
       " '1stFlrSF',\n",
       " '2ndFlrSF',\n",
       " 'GrLivArea',\n",
       " 'FullBath',\n",
       " 'TotRmsAbvGrd',\n",
       " 'GarageCars',\n",
       " 'GarageArea']"
      ]
     },
     "execution_count": 31,
     "metadata": {},
     "output_type": "execute_result"
    }
   ],
   "source": [
    "boruta_pipeline.feature_names_out_.to_list()"
   ]
  },
  {
   "cell_type": "markdown",
   "metadata": {
    "raw_mimetype": "text/restructuredtext"
   },
   "source": [
    "`sklearndf` allows us to trace outgoing features back to the original features from which they were derived, using the `sklearndf.TransformerDF.features_original_` property. This is useful here as we want to know which features to eliminate before putting them into the pipeline.\n",
    "\n",
    "In our example, feature `BsmtQual_Ex` is a derivative of feature `BsmtQual`, obtained through one-hot encoding: "
   ]
  },
  {
   "cell_type": "code",
   "execution_count": 32,
   "metadata": {},
   "outputs": [
    {
     "data": {
      "text/html": [
       "<div>\n",
       "<style scoped>\n",
       "    .dataframe tbody tr th:only-of-type {\n",
       "        vertical-align: middle;\n",
       "    }\n",
       "\n",
       "    .dataframe tbody tr th {\n",
       "        vertical-align: top;\n",
       "    }\n",
       "\n",
       "    .dataframe thead th {\n",
       "        text-align: right;\n",
       "    }\n",
       "</style>\n",
       "<table border=\"1\" class=\"dataframe\">\n",
       "  <thead>\n",
       "    <tr style=\"text-align: right;\">\n",
       "      <th></th>\n",
       "      <th>feature_in</th>\n",
       "    </tr>\n",
       "    <tr>\n",
       "      <th>feature_out</th>\n",
       "      <th></th>\n",
       "    </tr>\n",
       "  </thead>\n",
       "  <tbody>\n",
       "    <tr>\n",
       "      <th>BsmtQual_Ex</th>\n",
       "      <td>BsmtQual</td>\n",
       "    </tr>\n",
       "    <tr>\n",
       "      <th>LotFrontage</th>\n",
       "      <td>LotFrontage</td>\n",
       "    </tr>\n",
       "    <tr>\n",
       "      <th>LotArea</th>\n",
       "      <td>LotArea</td>\n",
       "    </tr>\n",
       "    <tr>\n",
       "      <th>OverallQual</th>\n",
       "      <td>OverallQual</td>\n",
       "    </tr>\n",
       "    <tr>\n",
       "      <th>YearBuilt</th>\n",
       "      <td>YearBuilt</td>\n",
       "    </tr>\n",
       "    <tr>\n",
       "      <th>YearRemodAdd</th>\n",
       "      <td>YearRemodAdd</td>\n",
       "    </tr>\n",
       "    <tr>\n",
       "      <th>MasVnrArea</th>\n",
       "      <td>MasVnrArea</td>\n",
       "    </tr>\n",
       "    <tr>\n",
       "      <th>BsmtFinSF1</th>\n",
       "      <td>BsmtFinSF1</td>\n",
       "    </tr>\n",
       "    <tr>\n",
       "      <th>TotalBsmtSF</th>\n",
       "      <td>TotalBsmtSF</td>\n",
       "    </tr>\n",
       "    <tr>\n",
       "      <th>1stFlrSF</th>\n",
       "      <td>1stFlrSF</td>\n",
       "    </tr>\n",
       "    <tr>\n",
       "      <th>2ndFlrSF</th>\n",
       "      <td>2ndFlrSF</td>\n",
       "    </tr>\n",
       "    <tr>\n",
       "      <th>GrLivArea</th>\n",
       "      <td>GrLivArea</td>\n",
       "    </tr>\n",
       "    <tr>\n",
       "      <th>FullBath</th>\n",
       "      <td>FullBath</td>\n",
       "    </tr>\n",
       "    <tr>\n",
       "      <th>TotRmsAbvGrd</th>\n",
       "      <td>TotRmsAbvGrd</td>\n",
       "    </tr>\n",
       "    <tr>\n",
       "      <th>GarageCars</th>\n",
       "      <td>GarageCars</td>\n",
       "    </tr>\n",
       "    <tr>\n",
       "      <th>GarageArea</th>\n",
       "      <td>GarageArea</td>\n",
       "    </tr>\n",
       "  </tbody>\n",
       "</table>\n",
       "</div>"
      ],
      "text/plain": [
       "                feature_in\n",
       "feature_out               \n",
       "BsmtQual_Ex       BsmtQual\n",
       "LotFrontage    LotFrontage\n",
       "LotArea            LotArea\n",
       "OverallQual    OverallQual\n",
       "YearBuilt        YearBuilt\n",
       "YearRemodAdd  YearRemodAdd\n",
       "MasVnrArea      MasVnrArea\n",
       "BsmtFinSF1      BsmtFinSF1\n",
       "TotalBsmtSF    TotalBsmtSF\n",
       "1stFlrSF          1stFlrSF\n",
       "2ndFlrSF          2ndFlrSF\n",
       "GrLivArea        GrLivArea\n",
       "FullBath          FullBath\n",
       "TotRmsAbvGrd  TotRmsAbvGrd\n",
       "GarageCars      GarageCars\n",
       "GarageArea      GarageArea"
      ]
     },
     "execution_count": 32,
     "metadata": {},
     "output_type": "execute_result"
    }
   ],
   "source": [
    "boruta_pipeline.feature_names_original_.to_frame()"
   ]
  },
  {
   "cell_type": "markdown",
   "metadata": {},
   "source": [
    "So, to obtain all features we want to select from the original data set, we can select the unique ingoing features from the original feature mapping:"
   ]
  },
  {
   "cell_type": "code",
   "execution_count": 33,
   "metadata": {},
   "outputs": [
    {
     "data": {
      "text/plain": [
       "array(['BsmtQual', 'LotFrontage', 'LotArea', 'OverallQual', 'YearBuilt',\n",
       "       'YearRemodAdd', 'MasVnrArea', 'BsmtFinSF1', 'TotalBsmtSF',\n",
       "       '1stFlrSF', '2ndFlrSF', 'GrLivArea', 'FullBath', 'TotRmsAbvGrd',\n",
       "       'GarageCars', 'GarageArea'], dtype=object)"
      ]
     },
     "execution_count": 33,
     "metadata": {},
     "output_type": "execute_result"
    }
   ],
   "source": [
    "boruta_pipeline.feature_names_original_.unique()"
   ]
  }
 ],
 "metadata": {
  "kernelspec": {
   "display_name": "Python 3",
   "language": "python",
   "name": "python3"
  },
  "language_info": {
   "codemirror_mode": {
    "name": "ipython",
    "version": 3
   },
   "file_extension": ".py",
   "mimetype": "text/x-python",
   "name": "python",
   "nbconvert_exporter": "python",
   "pygments_lexer": "ipython3",
   "version": "3.8.6"
  },
  "pycharm": {
   "stem_cell": {
    "cell_type": "raw",
    "metadata": {
     "collapsed": false
    },
    "source": []
   }
  },
  "toc": {
   "base_numbering": 1,
   "nav_menu": {},
   "number_sections": true,
   "sideBar": true,
   "skip_h1_title": false,
   "title_cell": "Table of Contents",
   "title_sidebar": "Contents",
   "toc_cell": false,
   "toc_position": {
    "height": "calc(100% - 180px)",
    "left": "10px",
    "top": "150px",
    "width": "165px"
   },
   "toc_section_display": true,
   "toc_window_display": false
  }
 },
 "nbformat": 4,
 "nbformat_minor": 2
}
